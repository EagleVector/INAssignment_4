{
 "cells": [
  {
   "cell_type": "markdown",
   "id": "1fdfc022",
   "metadata": {},
   "source": [
    "# Q1. What exactly is []?\n",
    "\n",
    "Ans. List"
   ]
  },
  {
   "cell_type": "markdown",
   "id": "c85415de",
   "metadata": {},
   "source": [
    "# Q2. In a list of values stored in a variable called spam, how would you assign the value 'hello' as the\n",
    "third value? (Assume [2, 4, 6, 8, 10] are in spam.)"
   ]
  },
  {
   "cell_type": "code",
   "execution_count": 25,
   "id": "ae95b90c",
   "metadata": {},
   "outputs": [],
   "source": [
    "spam = [2,4,6,8,10]"
   ]
  },
  {
   "cell_type": "code",
   "execution_count": 26,
   "id": "9413df74",
   "metadata": {},
   "outputs": [],
   "source": [
    "spam.insert(2,'hello')"
   ]
  },
  {
   "cell_type": "code",
   "execution_count": 27,
   "id": "f2e8b273",
   "metadata": {},
   "outputs": [
    {
     "name": "stdout",
     "output_type": "stream",
     "text": [
      "[2, 4, 'hello', 6, 8, 10]\n"
     ]
    }
   ],
   "source": [
    "print(spam)"
   ]
  },
  {
   "cell_type": "markdown",
   "id": "527e039f",
   "metadata": {},
   "source": [
    "Q3. What is the value of spam[int(int('3' * 2) / 11)]?"
   ]
  },
  {
   "cell_type": "code",
   "execution_count": 28,
   "id": "c912fbdb",
   "metadata": {},
   "outputs": [
    {
     "data": {
      "text/plain": [
       "6"
      ]
     },
     "execution_count": 28,
     "metadata": {},
     "output_type": "execute_result"
    }
   ],
   "source": [
    "#Ans. It will take the third index\n",
    "spam[int(int('3' * 2) / 11)]"
   ]
  },
  {
   "cell_type": "markdown",
   "id": "fd5d6bc3",
   "metadata": {},
   "source": [
    "Q4. What is the value of spam[-1]?"
   ]
  },
  {
   "cell_type": "markdown",
   "id": "b5426143",
   "metadata": {},
   "source": [
    "Ans. -1 means it takes the last index. spam[-1] = 10"
   ]
  },
  {
   "cell_type": "markdown",
   "id": "1e9aafc6",
   "metadata": {},
   "source": [
    "Q5. What is the value of spam[:2]?\n",
    "\n",
    "Ans. It will start from 0th index(inclusive) and terminate at 2nd index(exclusive)\n",
    "\n",
    "spam[:2] = [2,4]"
   ]
  },
  {
   "cell_type": "markdown",
   "id": "569bfebf",
   "metadata": {},
   "source": [
    "# Let's pretend bacon has the list [3.14, 'cat', 11, 'cat', True] for the next three questions."
   ]
  },
  {
   "cell_type": "code",
   "execution_count": 33,
   "id": "085e2bb4",
   "metadata": {},
   "outputs": [],
   "source": [
    "bacon = [3.14,'cat',11,'cat',True]"
   ]
  },
  {
   "cell_type": "markdown",
   "id": "9417716e",
   "metadata": {},
   "source": [
    "Q6. What is the value of bacon.index('cat')?\n",
    "\n",
    "Ans. It will pick up the 1st appearance of 'cat' i.e 1"
   ]
  },
  {
   "cell_type": "code",
   "execution_count": 37,
   "id": "51a62d83",
   "metadata": {},
   "outputs": [
    {
     "data": {
      "text/plain": [
       "1"
      ]
     },
     "execution_count": 37,
     "metadata": {},
     "output_type": "execute_result"
    }
   ],
   "source": [
    "bacon.index('cat')"
   ]
  },
  {
   "cell_type": "markdown",
   "id": "e3a106b6",
   "metadata": {},
   "source": [
    "Q7. How does bacon.append(99) change the look of the list value in bacon?\n",
    "\n",
    "Ans. It will add 99 at the end of list"
   ]
  },
  {
   "cell_type": "code",
   "execution_count": 44,
   "id": "2f12bb16",
   "metadata": {},
   "outputs": [],
   "source": [
    "bacon.append(99)"
   ]
  },
  {
   "cell_type": "code",
   "execution_count": 45,
   "id": "f5f5fb18",
   "metadata": {},
   "outputs": [
    {
     "data": {
      "text/plain": [
       "[3.14, 'cat', 11, 'cat', True, 99]"
      ]
     },
     "execution_count": 45,
     "metadata": {},
     "output_type": "execute_result"
    }
   ],
   "source": [
    "bacon"
   ]
  },
  {
   "cell_type": "markdown",
   "id": "7e469141",
   "metadata": {},
   "source": [
    "Q8. How does bacon.remove('cat') change the look of the list in bacon?\n",
    "\n",
    "Ans. It will remove 'cat' from its 1st appearance"
   ]
  },
  {
   "cell_type": "code",
   "execution_count": 46,
   "id": "a4fbaf56",
   "metadata": {},
   "outputs": [],
   "source": [
    "bacon.remove('cat')"
   ]
  },
  {
   "cell_type": "code",
   "execution_count": 47,
   "id": "f9e0b20b",
   "metadata": {},
   "outputs": [
    {
     "data": {
      "text/plain": [
       "[3.14, 11, 'cat', True, 99]"
      ]
     },
     "execution_count": 47,
     "metadata": {},
     "output_type": "execute_result"
    }
   ],
   "source": [
    "bacon"
   ]
  },
  {
   "cell_type": "raw",
   "id": "deaf10bc",
   "metadata": {},
   "source": [
    "Q9. What are the list concatenation and list replication operators?\n",
    "\n",
    "Ans. Lists can be concatenated directly using '+' operator. List can be replicated by using copy function."
   ]
  },
  {
   "cell_type": "code",
   "execution_count": 48,
   "id": "1d19e55b",
   "metadata": {},
   "outputs": [],
   "source": [
    "l = [1,2,3]\n",
    "l1 = [34,3,214]"
   ]
  },
  {
   "cell_type": "code",
   "execution_count": 49,
   "id": "233c9f36",
   "metadata": {},
   "outputs": [
    {
     "data": {
      "text/plain": [
       "[1, 2, 3, 34, 3, 214]"
      ]
     },
     "execution_count": 49,
     "metadata": {},
     "output_type": "execute_result"
    }
   ],
   "source": [
    "l + l1"
   ]
  },
  {
   "cell_type": "code",
   "execution_count": 50,
   "id": "146430c1",
   "metadata": {},
   "outputs": [],
   "source": [
    "lst = [1,2,3,4]"
   ]
  },
  {
   "cell_type": "code",
   "execution_count": 57,
   "id": "2675a642",
   "metadata": {},
   "outputs": [],
   "source": [
    "l2 = lst.copy()"
   ]
  },
  {
   "cell_type": "code",
   "execution_count": 58,
   "id": "45af6f94",
   "metadata": {},
   "outputs": [
    {
     "data": {
      "text/plain": [
       "[1, 2, 2, 3, 4]"
      ]
     },
     "execution_count": 58,
     "metadata": {},
     "output_type": "execute_result"
    }
   ],
   "source": [
    "l2"
   ]
  },
  {
   "cell_type": "markdown",
   "id": "32315184",
   "metadata": {},
   "source": [
    "Q10. What is difference between the list methods append() and insert()?\n",
    "\n",
    "Ans. append() operation adds the element inside the list at the last position. Whereas insert operation inserts any element at the specified position."
   ]
  },
  {
   "cell_type": "code",
   "execution_count": 59,
   "id": "f06781e0",
   "metadata": {},
   "outputs": [],
   "source": [
    "lst = [1,2,3,4,5]"
   ]
  },
  {
   "cell_type": "code",
   "execution_count": 60,
   "id": "dbadb08d",
   "metadata": {},
   "outputs": [],
   "source": [
    "lst.append(6)"
   ]
  },
  {
   "cell_type": "code",
   "execution_count": 61,
   "id": "0f1d5d94",
   "metadata": {},
   "outputs": [
    {
     "data": {
      "text/plain": [
       "[1, 2, 3, 4, 5, 6]"
      ]
     },
     "execution_count": 61,
     "metadata": {},
     "output_type": "execute_result"
    }
   ],
   "source": [
    "lst"
   ]
  },
  {
   "cell_type": "code",
   "execution_count": 62,
   "id": "fd864256",
   "metadata": {},
   "outputs": [],
   "source": [
    "lst.insert(6,7)"
   ]
  },
  {
   "cell_type": "code",
   "execution_count": 63,
   "id": "df85ff09",
   "metadata": {},
   "outputs": [
    {
     "data": {
      "text/plain": [
       "[1, 2, 3, 4, 5, 6, 7]"
      ]
     },
     "execution_count": 63,
     "metadata": {},
     "output_type": "execute_result"
    }
   ],
   "source": [
    "lst"
   ]
  },
  {
   "cell_type": "raw",
   "id": "1bebd66e",
   "metadata": {},
   "source": [
    "Q11. What are the two methods for removing items from a list?\n",
    "\n",
    "Ans. pop() operation will remove a random item from the list and returns the removed item.\n",
    "\n",
    "remove() operation will remove the item in the list."
   ]
  },
  {
   "cell_type": "code",
   "execution_count": 64,
   "id": "392aafc9",
   "metadata": {},
   "outputs": [
    {
     "data": {
      "text/plain": [
       "[1, 2, 3, 4, 5, 6, 7]"
      ]
     },
     "execution_count": 64,
     "metadata": {},
     "output_type": "execute_result"
    }
   ],
   "source": [
    "lst"
   ]
  },
  {
   "cell_type": "code",
   "execution_count": 65,
   "id": "e3dc4ba2",
   "metadata": {},
   "outputs": [
    {
     "data": {
      "text/plain": [
       "7"
      ]
     },
     "execution_count": 65,
     "metadata": {},
     "output_type": "execute_result"
    }
   ],
   "source": [
    "lst.pop()"
   ]
  },
  {
   "cell_type": "code",
   "execution_count": 66,
   "id": "a94b928e",
   "metadata": {},
   "outputs": [
    {
     "data": {
      "text/plain": [
       "[1, 2, 3, 4, 5, 6]"
      ]
     },
     "execution_count": 66,
     "metadata": {},
     "output_type": "execute_result"
    }
   ],
   "source": [
    "lst"
   ]
  },
  {
   "cell_type": "code",
   "execution_count": 73,
   "id": "eac504b7",
   "metadata": {},
   "outputs": [],
   "source": [
    "lst.remove(4)"
   ]
  },
  {
   "cell_type": "code",
   "execution_count": 74,
   "id": "9c0acf6f",
   "metadata": {},
   "outputs": [
    {
     "data": {
      "text/plain": [
       "[1, 3, 5]"
      ]
     },
     "execution_count": 74,
     "metadata": {},
     "output_type": "execute_result"
    }
   ],
   "source": [
    "lst"
   ]
  },
  {
   "cell_type": "markdown",
   "id": "f381cf49",
   "metadata": {},
   "source": [
    "Q12. Describe how list values and string values are identical.\n",
    "\n",
    "Ans. Indexing is similar in both list values and string values.Both can be iterated."
   ]
  },
  {
   "cell_type": "markdown",
   "id": "2f6def20",
   "metadata": {},
   "source": [
    "Q13. What's the difference between tuples and lists?\n",
    "\n",
    "Ans. Items inside a list is mutable i.e its possible to replace the items inside a list. Whereas Items inside a tuple is immutable i.e its not possible to replace the items inside a tuple."
   ]
  },
  {
   "cell_type": "code",
   "execution_count": 75,
   "id": "0d0df9a9",
   "metadata": {},
   "outputs": [],
   "source": [
    "lst = [1,2,3,4]"
   ]
  },
  {
   "cell_type": "code",
   "execution_count": 76,
   "id": "a32a255e",
   "metadata": {},
   "outputs": [],
   "source": [
    "lst[2] = 'abs'"
   ]
  },
  {
   "cell_type": "code",
   "execution_count": 77,
   "id": "7ba890b9",
   "metadata": {},
   "outputs": [
    {
     "data": {
      "text/plain": [
       "[1, 2, 'abs', 4]"
      ]
     },
     "execution_count": 77,
     "metadata": {},
     "output_type": "execute_result"
    }
   ],
   "source": [
    "lst"
   ]
  },
  {
   "cell_type": "code",
   "execution_count": 78,
   "id": "8a273227",
   "metadata": {},
   "outputs": [],
   "source": [
    "tup = (1,2,3,4)"
   ]
  },
  {
   "cell_type": "code",
   "execution_count": 80,
   "id": "19fc7e5f",
   "metadata": {},
   "outputs": [
    {
     "ename": "TypeError",
     "evalue": "'tuple' object does not support item assignment",
     "output_type": "error",
     "traceback": [
      "\u001b[0;31m---------------------------------------------------------------------------\u001b[0m",
      "\u001b[0;31mTypeError\u001b[0m                                 Traceback (most recent call last)",
      "\u001b[0;32m/var/folders/4f/9wwls0j92z90fgmqsv9knhsc0000gn/T/ipykernel_26329/344632426.py\u001b[0m in \u001b[0;36m<module>\u001b[0;34m\u001b[0m\n\u001b[0;32m----> 1\u001b[0;31m \u001b[0mtup\u001b[0m\u001b[0;34m[\u001b[0m\u001b[0;36m2\u001b[0m\u001b[0;34m]\u001b[0m \u001b[0;34m=\u001b[0m \u001b[0;34m'chi'\u001b[0m\u001b[0;34m\u001b[0m\u001b[0;34m\u001b[0m\u001b[0m\n\u001b[0m",
      "\u001b[0;31mTypeError\u001b[0m: 'tuple' object does not support item assignment"
     ]
    }
   ],
   "source": [
    "tup[2] = 'chi'"
   ]
  },
  {
   "cell_type": "markdown",
   "id": "eece0b7c",
   "metadata": {},
   "source": [
    "Q14. How do you type a tuple value that only contains the integer 42?\n",
    "\n",
    "Ans. tup = (42)"
   ]
  },
  {
   "cell_type": "code",
   "execution_count": 81,
   "id": "96fe467d",
   "metadata": {},
   "outputs": [],
   "source": [
    "t = (42)"
   ]
  },
  {
   "cell_type": "code",
   "execution_count": 82,
   "id": "1a4f2e77",
   "metadata": {},
   "outputs": [
    {
     "data": {
      "text/plain": [
       "int"
      ]
     },
     "execution_count": 82,
     "metadata": {},
     "output_type": "execute_result"
    }
   ],
   "source": [
    "type(t)"
   ]
  },
  {
   "cell_type": "markdown",
   "id": "25a84420",
   "metadata": {},
   "source": [
    "Q15. How do you get a list value's tuple form? How do you get a tuple value's list form?\n",
    "\n",
    "Ans. By TypeCasting"
   ]
  },
  {
   "cell_type": "code",
   "execution_count": 83,
   "id": "d3541ee9",
   "metadata": {},
   "outputs": [],
   "source": [
    "lst = [1,2,3,'shubh',True,45.56]"
   ]
  },
  {
   "cell_type": "code",
   "execution_count": 84,
   "id": "0865d7fd",
   "metadata": {},
   "outputs": [
    {
     "data": {
      "text/plain": [
       "(1, 2, 3, 'shubh', True, 45.56)"
      ]
     },
     "execution_count": 84,
     "metadata": {},
     "output_type": "execute_result"
    }
   ],
   "source": [
    "tuple(lst)"
   ]
  },
  {
   "cell_type": "code",
   "execution_count": 85,
   "id": "e1b36923",
   "metadata": {},
   "outputs": [],
   "source": [
    "tup = (1,2,3,4,5,90.08,False,'cat')"
   ]
  },
  {
   "cell_type": "code",
   "execution_count": 86,
   "id": "7fdad639",
   "metadata": {},
   "outputs": [
    {
     "data": {
      "text/plain": [
       "[1, 2, 3, 4, 5, 90.08, False, 'cat']"
      ]
     },
     "execution_count": 86,
     "metadata": {},
     "output_type": "execute_result"
    }
   ],
   "source": [
    "list(tup)"
   ]
  },
  {
   "cell_type": "markdown",
   "id": "72517e27",
   "metadata": {},
   "source": [
    "Q16. Variables that \"contain\" list values are not necessarily lists themselves. Instead, what do they\n",
    "contain?\n",
    "\n",
    "Ans. Variables will contain references to list values rather than list values themselves."
   ]
  },
  {
   "cell_type": "markdown",
   "id": "6eebbf07",
   "metadata": {},
   "source": [
    "Q17. How do you distinguish between copy.copy() and copy.deepcopy()?\n",
    "\n",
    "Ans. copy() create reference to original object. If we change copied object we change the original object. deepcopy() creates new object and does real copying of original object to new one. "
   ]
  }
 ],
 "metadata": {
  "kernelspec": {
   "display_name": "Python 3 (ipykernel)",
   "language": "python",
   "name": "python3"
  },
  "language_info": {
   "codemirror_mode": {
    "name": "ipython",
    "version": 3
   },
   "file_extension": ".py",
   "mimetype": "text/x-python",
   "name": "python",
   "nbconvert_exporter": "python",
   "pygments_lexer": "ipython3",
   "version": "3.9.7"
  }
 },
 "nbformat": 4,
 "nbformat_minor": 5
}
